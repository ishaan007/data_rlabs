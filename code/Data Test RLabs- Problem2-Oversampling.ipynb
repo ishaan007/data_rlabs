{
 "cells": [
  {
   "cell_type": "markdown",
   "metadata": {},
   "source": [
    "# Module Imports"
   ]
  },
  {
   "cell_type": "code",
   "execution_count": 233,
   "metadata": {
    "collapsed": true
   },
   "outputs": [],
   "source": [
    "import pickle\n",
    "import numpy\n",
    "import csv\n",
    "from sklearn.feature_extraction import DictVectorizer\n",
    "from sklearn.feature_extraction import FeatureHasher\n",
    "from sklearn.linear_model import Perceptron\n",
    "from sklearn.pipeline import Pipeline\n",
    "from sklearn import svm\n",
    "from sklearn.preprocessing import StandardScaler\n",
    "from sklearn.preprocessing import MinMaxScaler\n",
    "from sklearn.preprocessing import MaxAbsScaler"
   ]
  },
  {
   "cell_type": "markdown",
   "metadata": {},
   "source": [
    "# Import data"
   ]
  },
  {
   "cell_type": "code",
   "execution_count": 768,
   "metadata": {
    "collapsed": true
   },
   "outputs": [],
   "source": [
    "def importData(filename):\n",
    "    X=[]\n",
    "    Y=[]\n",
    "    with open(filename,'r') as data_file:\n",
    "        counter=0\n",
    "        for line in data_file:\n",
    "            if(counter>0):\n",
    "                counter=counter+1\n",
    "                line_list=line.split(\",\")\n",
    "                if(line_list[0]=='FALSE'):\n",
    "                    Y.append(line_list[0])\n",
    "                    X.append([line_list[1],line_list[2],line_list[3].strip(\"\\n\")])\n",
    "                else:\n",
    "                    Y.append(line_list[0])\n",
    "                    X.append([line_list[1],line_list[2],line_list[3].strip(\"\\n\")])\n",
    "                    Y.append(line_list[0])\n",
    "                    X.append([line_list[1],line_list[2],line_list[3].strip(\"\\n\")])\n",
    "                    Y.append(line_list[0])\n",
    "                    X.append([line_list[1],line_list[2],line_list[3].strip(\"\\n\")])\n",
    "                   \n",
    "                    \n",
    "                    \n",
    "                    \n",
    "                    \n",
    "                \n",
    "            \n",
    "                \n",
    "            else:\n",
    "                counter=counter+1\n",
    "        \n",
    "    return X,Y       "
   ]
  },
  {
   "cell_type": "code",
   "execution_count": 769,
   "metadata": {
    "collapsed": true
   },
   "outputs": [],
   "source": [
    "X,Y=importData('dataset_2.csv')"
   ]
  },
  {
   "cell_type": "code",
   "execution_count": 770,
   "metadata": {},
   "outputs": [
    {
     "data": {
      "text/plain": [
       "[['>10', '<4.4', 'HR|AIRTEL'],\n",
       " ['>5', '<5', 'UP|JIO'],\n",
       " ['>10', '<5', 'AP|AIRTEL'],\n",
       " ['>5', '<5', 'RJ|JIO'],\n",
       " ['>10', '<5.6', 'WB|VODAFONE'],\n",
       " ['>10', '<5.6', 'HR|JIO'],\n",
       " ['>10', '<5.6', 'HR|JIO'],\n",
       " ['>10', '<5.6', 'HR|JIO'],\n",
       " ['>5', '<5', 'TN|JIO'],\n",
       " ['>20', '<6', 'DL|AIRTEL']]"
      ]
     },
     "execution_count": 770,
     "metadata": {},
     "output_type": "execute_result"
    }
   ],
   "source": [
    "X[:10]"
   ]
  },
  {
   "cell_type": "markdown",
   "metadata": {},
   "source": [
    "# Inspect X1 and X2 Features"
   ]
  },
  {
   "cell_type": "code",
   "execution_count": 771,
   "metadata": {
    "collapsed": true
   },
   "outputs": [],
   "source": [
    "x1=[]\n",
    "x2=[]\n",
    "x1=set(x1)\n",
    "x2=set(x2)\n",
    "for i in range(len(X)):\n",
    "    x1.add(float(X[i][0][1:]))\n",
    "    x2.add(float(X[i][1][1:]))"
   ]
  },
  {
   "cell_type": "code",
   "execution_count": 772,
   "metadata": {},
   "outputs": [
    {
     "data": {
      "text/plain": [
       "{5.0, 10.0, 20.0, 30.0, 40.0}"
      ]
     },
     "execution_count": 772,
     "metadata": {},
     "output_type": "execute_result"
    }
   ],
   "source": [
    "x1"
   ]
  },
  {
   "cell_type": "code",
   "execution_count": 773,
   "metadata": {},
   "outputs": [
    {
     "data": {
      "text/plain": [
       "{4.0, 4.2, 4.4, 4.6, 4.8, 5.0, 5.2, 5.4, 5.6, 5.8, 6.0}"
      ]
     },
     "execution_count": 773,
     "metadata": {},
     "output_type": "execute_result"
    }
   ],
   "source": [
    "x2"
   ]
  },
  {
   "cell_type": "markdown",
   "metadata": {},
   "source": [
    "# One Hot Encoding"
   ]
  },
  {
   "cell_type": "code",
   "execution_count": 774,
   "metadata": {},
   "outputs": [
    {
     "name": "stdout",
     "output_type": "stream",
     "text": [
      "Creating Vectorizer for whole data set\n",
      "Dictonary complete\n"
     ]
    }
   ],
   "source": [
    "print('Creating Vectorizer for whole data set')\n",
    "vectorizer = DictVectorizer(sparse=False)\n",
    "vectorizer_input=[]\n",
    "for eachRow in X:\n",
    "    temp_dic={}\n",
    "    temp_count=1\n",
    "    for data in eachRow:\n",
    "        temp_dic['X'+str(temp_count)] = data\n",
    "        temp_count=temp_count+1\n",
    "    vectorizer_input.append(temp_dic)\n",
    "print(\"Dictonary complete\")\n",
    "output_all = vectorizer.fit(vectorizer_input)\n"
   ]
  },
  {
   "cell_type": "code",
   "execution_count": 775,
   "metadata": {},
   "outputs": [
    {
     "data": {
      "text/plain": [
       "{'X1': '>10', 'X2': '<5', 'X3': 'KL|IDEA'}"
      ]
     },
     "execution_count": 775,
     "metadata": {},
     "output_type": "execute_result"
    }
   ],
   "source": [
    "vectorizer_input[3000]"
   ]
  },
  {
   "cell_type": "code",
   "execution_count": 776,
   "metadata": {},
   "outputs": [
    {
     "data": {
      "text/plain": [
       "4323"
      ]
     },
     "execution_count": 776,
     "metadata": {},
     "output_type": "execute_result"
    }
   ],
   "source": [
    "len(vectorizer_input)"
   ]
  },
  {
   "cell_type": "code",
   "execution_count": 777,
   "metadata": {
    "collapsed": true
   },
   "outputs": [],
   "source": [
    "from random import shuffle\n",
    "shuffle(vectorizer_input)"
   ]
  },
  {
   "cell_type": "markdown",
   "metadata": {},
   "source": [
    "# Train test split"
   ]
  },
  {
   "cell_type": "code",
   "execution_count": 778,
   "metadata": {
    "collapsed": true
   },
   "outputs": [],
   "source": [
    "train_X=vectorizer_input[:3500]\n",
    "train_Y=Y[:3500]\n",
    "test_X=vectorizer_input[3500:]\n",
    "test_Y=Y[3500:]"
   ]
  },
  {
   "cell_type": "markdown",
   "metadata": {},
   "source": [
    "# Serialize the one hot encoder"
   ]
  },
  {
   "cell_type": "code",
   "execution_count": 779,
   "metadata": {
    "collapsed": true
   },
   "outputs": [],
   "source": [
    "with open('dictvectorizer.pkl', 'wb') as fid:\n",
    "    pickle.dump(vectorizer, fid)"
   ]
  },
  {
   "cell_type": "code",
   "execution_count": 780,
   "metadata": {},
   "outputs": [
    {
     "data": {
      "text/plain": [
       "(1, 177)"
      ]
     },
     "execution_count": 780,
     "metadata": {},
     "output_type": "execute_result"
    }
   ],
   "source": [
    "vectorizer.transform(vectorizer_input[0]).shape"
   ]
  },
  {
   "cell_type": "markdown",
   "metadata": {},
   "source": [
    "# Train a logistic regression model"
   ]
  },
  {
   "cell_type": "code",
   "execution_count": 781,
   "metadata": {
    "collapsed": true
   },
   "outputs": [],
   "source": [
    "from sklearn import linear_model"
   ]
  },
  {
   "cell_type": "code",
   "execution_count": 782,
   "metadata": {},
   "outputs": [
    {
     "data": {
      "text/plain": [
       "LogisticRegression(C=100000.0, class_weight=None, dual=False,\n",
       "          fit_intercept=True, intercept_scaling=1, max_iter=100,\n",
       "          multi_class='ovr', n_jobs=1, penalty='l2', random_state=None,\n",
       "          solver='liblinear', tol=0.0001, verbose=0, warm_start=False)"
      ]
     },
     "execution_count": 782,
     "metadata": {},
     "output_type": "execute_result"
    }
   ],
   "source": [
    "clf = linear_model.LogisticRegression(C=1e5)\n",
    "clf.fit(vectorizer.transform(train_X),train_Y)"
   ]
  },
  {
   "cell_type": "code",
   "execution_count": 783,
   "metadata": {
    "collapsed": true
   },
   "outputs": [],
   "source": [
    "predictions=clf.predict(vectorizer.transform(test_X)).tolist()"
   ]
  },
  {
   "cell_type": "code",
   "execution_count": 784,
   "metadata": {},
   "outputs": [
    {
     "data": {
      "text/plain": [
       "823"
      ]
     },
     "execution_count": 784,
     "metadata": {},
     "output_type": "execute_result"
    }
   ],
   "source": [
    "len(predictions)"
   ]
  },
  {
   "cell_type": "code",
   "execution_count": 785,
   "metadata": {},
   "outputs": [
    {
     "data": {
      "text/plain": [
       "0.70109356014580804"
      ]
     },
     "execution_count": 785,
     "metadata": {},
     "output_type": "execute_result"
    }
   ],
   "source": [
    "from sklearn.metrics import accuracy_score\n",
    "accuracy_score(test_Y,predictions)"
   ]
  },
  {
   "cell_type": "code",
   "execution_count": 756,
   "metadata": {},
   "outputs": [
    {
     "name": "stdout",
     "output_type": "stream",
     "text": [
      "population: 823\n",
      "P: 219\n",
      "N: 604\n",
      "PositiveTest: 108\n",
      "NegativeTest: 715\n",
      "TP: 24\n",
      "TN: 520\n",
      "FP: 84\n",
      "FN: 195\n",
      "TPR: 0.109589041096\n",
      "TNR: 0.860927152318\n",
      "PPV: 0.222222222222\n",
      "NPV: 0.727272727273\n",
      "FPR: 0.139072847682\n",
      "FDR: 0.777777777778\n",
      "FNR: 0.890410958904\n",
      "ACC: 0.6609963548\n",
      "F1_score: 0.146788990826\n",
      "MCC: -0.0385886141332\n",
      "informedness: -0.0294838065862\n",
      "markedness: -0.0505050505051\n",
      "prevalence: 0.26609963548\n",
      "LRP: 0.787997390737\n",
      "LRN: 1.03424657534\n",
      "DOR: 0.761904761905\n",
      "FOR: 0.272727272727\n"
     ]
    }
   ],
   "source": [
    "import pandas\n",
    "from pandas_ml import ConfusionMatrix\n",
    "\n",
    "import matplotlib.pyplot as plt\n",
    "\n",
    "cm = ConfusionMatrix(y_true=test_Y, y_pred=predictions)\n",
    "cm\n",
    "cm.print_stats()"
   ]
  },
  {
   "cell_type": "code",
   "execution_count": 787,
   "metadata": {},
   "outputs": [
    {
     "data": {
      "text/plain": [
       "Predicted  FALSE  TRUE  __all__\n",
       "Actual                         \n",
       "FALSE        520    84      604\n",
       "TRUE         195    24      219\n",
       "__all__      715   108      823"
      ]
     },
     "execution_count": 787,
     "metadata": {},
     "output_type": "execute_result"
    }
   ],
   "source": [
    "cm"
   ]
  }
 ],
 "metadata": {
  "kernelspec": {
   "display_name": "Python 2",
   "language": "python",
   "name": "python2"
  },
  "language_info": {
   "codemirror_mode": {
    "name": "ipython",
    "version": 2
   },
   "file_extension": ".py",
   "mimetype": "text/x-python",
   "name": "python",
   "nbconvert_exporter": "python",
   "pygments_lexer": "ipython2",
   "version": "2.7.13"
  }
 },
 "nbformat": 4,
 "nbformat_minor": 2
}
